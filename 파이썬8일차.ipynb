{
  "nbformat": 4,
  "nbformat_minor": 0,
  "metadata": {
    "colab": {
      "provenance": [],
      "authorship_tag": "ABX9TyO3TLMRb+LTobaYiHX9olHg",
      "include_colab_link": true
    },
    "kernelspec": {
      "name": "python3",
      "display_name": "Python 3"
    },
    "language_info": {
      "name": "python"
    }
  },
  "cells": [
    {
      "cell_type": "markdown",
      "metadata": {
        "id": "view-in-github",
        "colab_type": "text"
      },
      "source": [
        "<a href=\"https://colab.research.google.com/github/LIMYoHaBin32/Python/blob/main/%ED%8C%8C%EC%9D%B4%EC%8D%AC8%EC%9D%BC%EC%B0%A8.ipynb\" target=\"_parent\"><img src=\"https://colab.research.google.com/assets/colab-badge.svg\" alt=\"Open In Colab\"/></a>"
      ]
    },
    {
      "cell_type": "code",
      "execution_count": 1,
      "metadata": {
        "colab": {
          "base_uri": "https://localhost:8080/"
        },
        "id": "yfFdVYNBERq0",
        "outputId": "df11c03d-5832-41bc-9965-c42d03393095"
      },
      "outputs": [
        {
          "output_type": "stream",
          "name": "stdout",
          "text": [
            "True\n",
            "True\n",
            "False\n",
            "False\n",
            "True\n",
            "True\n"
          ]
        }
      ],
      "source": [
        "#1\n",
        "text1 = \"네이스123\"\n",
        "text2 = \"123123\"\n",
        "text3 = \"!@#$\"\n",
        "text4 = \"!@#$1234\"\n",
        "text5 = \"wtf\"\n",
        "text6 = \"wtf123123\"\n",
        "print(text1.isalnum())\n",
        "print(text2.isalnum())\n",
        "print(text3.isalnum())\n",
        "print(text4.isalnum())\n",
        "print(text5.isalnum())\n",
        "print(text6.isalnum())"
      ]
    },
    {
      "cell_type": "code",
      "source": [
        "#2\n",
        "text = \"#^&89627486826186e789678&*^@q*638E678{스\"\n",
        "text1 = \"네이스\"\n",
        "text2 = \"123123\"\n",
        "text3 = \"!@#$\"\n",
        "check = \"\"\n",
        "print(text1.isalpha())\n",
        "print(text2.isalpha())\n",
        "print(text3.isalpha())\n",
        "for i in text:\n",
        "\tif i.isalpha():\n",
        "\t\tcheck += i\n",
        "print(check)"
      ],
      "metadata": {
        "colab": {
          "base_uri": "https://localhost:8080/"
        },
        "id": "QLnCPyjpE8n2",
        "outputId": "a58ccb86-be70-458e-b5c4-fb9901c2d455"
      },
      "execution_count": 3,
      "outputs": [
        {
          "output_type": "stream",
          "name": "stdout",
          "text": [
            "True\n",
            "False\n",
            "False\n",
            "eqE스\n"
          ]
        }
      ]
    },
    {
      "cell_type": "code",
      "source": [
        "#3\n",
        "a= \"LeeMinJun\" # 문자로만 이루어짐\n",
        "b = \"175cm\" # 문자 + 숫자\n",
        "c = \"12321\" # 숫자\n",
        "d = \"-69\" # 음수\n",
        "e = \"9.87\" # 소수점\n",
        "f = \"3²\" # 3의 2제곱 기호 숫자\n",
        "g = \"⅔\" # 수학 기호 숫자 2/3\n",
        "h = \"0\" # 0\n",
        "i = \"0123\" # 0 으로 시작한 숫자\n",
        "\n",
        "# str.isdigit(\"문자열\")\n",
        "print(f\"str.isdigit('{a}') : {str.isdigit(a)}\")\n",
        "print(f\"str.isdigit('{b}') : {str.isdigit(b)}\")\n",
        "print(f\"str.isdigit('{c}') : {str.isdigit(c)}\")\n",
        "print(f\"str.isdigit('{d}') : {str.isdigit(d)}\")\n",
        "print(f\"str.isdigit('{e}') : {str.isdigit(e)}\")\n",
        "print(f\"str.isdigit('{f}') : {str.isdigit(f)}\")\n",
        "print(f\"str.isdigit('{g}') : {str.isdigit(g)}\")\n",
        "print(f\"str.isdigit('{h}') : {str.isdigit(h)}\")\n",
        "print(f\"str.isdigit('{i}') : {str.isdigit(i)}\")\n",
        "print()\n",
        "\n",
        "# \"문자열\".isdigit()\n",
        "print(f\"'{a}'.isdigit() : {a.isdigit()}\")\n",
        "print(f\"'{b}'.isdigit() : {b.isdigit()}\")\n",
        "print(f\"'{c}'.isdigit() : {c.isdigit()}\")\n",
        "print(f\"'{d}'.isdigit() : {d.isdigit()}\")\n",
        "print(f\"'{e}'.isdigit() : {e.isdigit()}\")\n",
        "print(f\"'{f}'.isdigit() : {f.isdigit()}\")\n",
        "print(f\"'{g}'.isdigit() : {g.isdigit()}\")\n",
        "print(f\"'{h}'.isdigit() : {h.isdigit()}\")\n",
        "print(f\"'{i}'.isdigit() : {i.isdigit()}\")"
      ],
      "metadata": {
        "colab": {
          "base_uri": "https://localhost:8080/"
        },
        "id": "ilvNgTN2Fzhm",
        "outputId": "61d5779b-b99e-4cf9-b3a0-2dddbeeeda29"
      },
      "execution_count": 4,
      "outputs": [
        {
          "output_type": "stream",
          "name": "stdout",
          "text": [
            "str.isdigit('LeeMinJun') : False\n",
            "str.isdigit('175cm') : False\n",
            "str.isdigit('12321') : True\n",
            "str.isdigit('-69') : False\n",
            "str.isdigit('9.87') : False\n",
            "str.isdigit('3²') : True\n",
            "str.isdigit('⅔') : False\n",
            "str.isdigit('0') : True\n",
            "str.isdigit('0123') : True\n",
            "\n",
            "'LeeMinJun'.isdigit() : False\n",
            "'175cm'.isdigit() : False\n",
            "'12321'.isdigit() : True\n",
            "'-69'.isdigit() : False\n",
            "'9.87'.isdigit() : False\n",
            "'3²'.isdigit() : True\n",
            "'⅔'.isdigit() : False\n",
            "'0'.isdigit() : True\n",
            "'0123'.isdigit() : True\n"
          ]
        }
      ]
    },
    {
      "cell_type": "code",
      "source": [
        "#4-1\n",
        "a = '12345678'\n",
        "print(a.isdigit())\n",
        "print(a.isdecimal())\n",
        "print(a.isnumeric())"
      ],
      "metadata": {
        "colab": {
          "base_uri": "https://localhost:8080/"
        },
        "id": "Qcj6Y_74GZ62",
        "outputId": "9f4cc911-c1a7-4ab7-8a3f-787fbe5da5fd"
      },
      "execution_count": 5,
      "outputs": [
        {
          "output_type": "stream",
          "name": "stdout",
          "text": [
            "True\n",
            "True\n",
            "True\n"
          ]
        }
      ]
    },
    {
      "cell_type": "code",
      "source": [
        "#4-2\n",
        "x = '3²'\n",
        "print(x.isdigit())\n",
        "# True\n",
        "print(x.isdecimal())\n",
        "# False\n",
        "print(x.isnumeric())\n",
        "int(x)\n",
        "# ERROR!!!!"
      ],
      "metadata": {
        "colab": {
          "base_uri": "https://localhost:8080/",
          "height": 260
        },
        "id": "zJq3aiqDGngF",
        "outputId": "ef23c37d-c8ce-44c2-ed9e-86fb7bb4ccd4"
      },
      "execution_count": 6,
      "outputs": [
        {
          "output_type": "stream",
          "name": "stdout",
          "text": [
            "True\n",
            "False\n",
            "True\n"
          ]
        },
        {
          "output_type": "error",
          "ename": "ValueError",
          "evalue": "invalid literal for int() with base 10: '3²'",
          "traceback": [
            "\u001b[0;31m---------------------------------------------------------------------------\u001b[0m",
            "\u001b[0;31mValueError\u001b[0m                                Traceback (most recent call last)",
            "\u001b[0;32m<ipython-input-6-7dc2d7fef6f0>\u001b[0m in \u001b[0;36m<cell line: 8>\u001b[0;34m()\u001b[0m\n\u001b[1;32m      6\u001b[0m \u001b[0;31m# False\u001b[0m\u001b[0;34m\u001b[0m\u001b[0;34m\u001b[0m\u001b[0m\n\u001b[1;32m      7\u001b[0m \u001b[0mprint\u001b[0m\u001b[0;34m(\u001b[0m\u001b[0mx\u001b[0m\u001b[0;34m.\u001b[0m\u001b[0misnumeric\u001b[0m\u001b[0;34m(\u001b[0m\u001b[0;34m)\u001b[0m\u001b[0;34m)\u001b[0m\u001b[0;34m\u001b[0m\u001b[0;34m\u001b[0m\u001b[0m\n\u001b[0;32m----> 8\u001b[0;31m \u001b[0mint\u001b[0m\u001b[0;34m(\u001b[0m\u001b[0mx\u001b[0m\u001b[0;34m)\u001b[0m\u001b[0;34m\u001b[0m\u001b[0;34m\u001b[0m\u001b[0m\n\u001b[0m\u001b[1;32m      9\u001b[0m \u001b[0;31m# ERROR!!!!\u001b[0m\u001b[0;34m\u001b[0m\u001b[0;34m\u001b[0m\u001b[0m\n",
            "\u001b[0;31mValueError\u001b[0m: invalid literal for int() with base 10: '3²'"
          ]
        }
      ]
    },
    {
      "cell_type": "code",
      "source": [
        "#5-1\n",
        "a = \"I Love QuartZ\"\n",
        "\n",
        "print( a.islower() )\n",
        "print( a.isupper() )\n",
        "print( a.upper() )\n",
        "print( a.lower() )"
      ],
      "metadata": {
        "colab": {
          "base_uri": "https://localhost:8080/"
        },
        "id": "S45uZXoYHV5O",
        "outputId": "756498c5-f075-49fd-81d8-d11cbb5abd57"
      },
      "execution_count": 7,
      "outputs": [
        {
          "output_type": "stream",
          "name": "stdout",
          "text": [
            "False\n",
            "False\n",
            "I LOVE QUARTZ\n",
            "i love quartz\n"
          ]
        }
      ]
    },
    {
      "cell_type": "code",
      "source": [
        "#5-2\n",
        "str = \"THIS is RoseQuartZ!!!\"\n",
        "print(str.islower())\n",
        "\n",
        "str = \"this is RoseQuartZ!!!\"\n",
        "print (str.islower())"
      ],
      "metadata": {
        "colab": {
          "base_uri": "https://localhost:8080/"
        },
        "id": "0G8vSOpwHtkm",
        "outputId": "4c612b5a-7ff3-461c-a6f0-cd4a78f28037"
      },
      "execution_count": 8,
      "outputs": [
        {
          "output_type": "stream",
          "name": "stdout",
          "text": [
            "False\n",
            "False\n"
          ]
        }
      ]
    },
    {
      "cell_type": "code",
      "source": [
        "#6\n",
        "str = \"this is RoseQuartZ!!!\"\n",
        "print(str.swapcase() )\n",
        "\n",
        "str = \"THIS IS ROSEQUARTZ!!!\"\n",
        "print( str.swapcase())"
      ],
      "metadata": {
        "colab": {
          "base_uri": "https://localhost:8080/"
        },
        "id": "fFlb_dBLIKp-",
        "outputId": "6097edad-df8b-4b58-8d0b-f7456a443f57"
      },
      "execution_count": 9,
      "outputs": [
        {
          "output_type": "stream",
          "name": "stdout",
          "text": [
            "THIS IS rOSEqUARTz!!!\n",
            "this is rosequartz!!!\n"
          ]
        }
      ]
    },
    {
      "cell_type": "code",
      "source": [
        "#7-1\n",
        "str = \"This Is RoseQuartZ!!!\"\n",
        "print( str.istitle() )\n",
        "\n",
        "str = \"This is rosequartz!!!\"\n",
        "print( str.istitle() )"
      ],
      "metadata": {
        "colab": {
          "base_uri": "https://localhost:8080/"
        },
        "id": "Z1Esm4neIiPG",
        "outputId": "85fd0cc4-644a-4b6e-bfc5-fc08cb0c4105"
      },
      "execution_count": 10,
      "outputs": [
        {
          "output_type": "stream",
          "name": "stdout",
          "text": [
            "False\n",
            "False\n"
          ]
        }
      ]
    },
    {
      "cell_type": "code",
      "source": [
        "#7-2\n",
        "str = \"This is RoseQuartZ!!!\"\n",
        "print( str.title() )"
      ],
      "metadata": {
        "colab": {
          "base_uri": "https://localhost:8080/"
        },
        "id": "2qfRkwr5IvI9",
        "outputId": "960a6981-d779-4a90-985c-bdb0f3ff1ff1"
      },
      "execution_count": 11,
      "outputs": [
        {
          "output_type": "stream",
          "name": "stdout",
          "text": [
            "This Is Rosequartz!!!\n"
          ]
        }
      ]
    },
    {
      "cell_type": "code",
      "source": [
        "#8\n",
        "print ( 'rosequartz!!!!!'.capitalize() ) #rosequartz!!!!!\n",
        "print ( 'ROSEQUARTZ!!!!!'.capitalize() ) #ROSEQUARTZ!!!!!"
      ],
      "metadata": {
        "colab": {
          "base_uri": "https://localhost:8080/"
        },
        "id": "D_NCo7CEJGk2",
        "outputId": "6d28c873-6ff0-42a4-f324-2086ebae6db8"
      },
      "execution_count": 12,
      "outputs": [
        {
          "output_type": "stream",
          "name": "stdout",
          "text": [
            "Rosequartz!!!!!\n",
            "Rosequartz!!!!!\n"
          ]
        }
      ]
    }
  ]
}
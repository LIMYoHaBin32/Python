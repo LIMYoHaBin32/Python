{
  "nbformat": 4,
  "nbformat_minor": 0,
  "metadata": {
    "colab": {
      "provenance": [],
      "authorship_tag": "ABX9TyMPFRp1Uhk+/fb/5WTp5CwE",
      "include_colab_link": true
    },
    "kernelspec": {
      "name": "python3",
      "display_name": "Python 3"
    },
    "language_info": {
      "name": "python"
    }
  },
  "cells": [
    {
      "cell_type": "markdown",
      "metadata": {
        "id": "view-in-github",
        "colab_type": "text"
      },
      "source": [
        "<a href=\"https://colab.research.google.com/github/LIMYoHaBin32/Python/blob/main/%ED%8C%8C%EC%9D%B4%EC%8D%AC11%EC%B0%A8%EC%8B%9C.ipynb\" target=\"_parent\"><img src=\"https://colab.research.google.com/assets/colab-badge.svg\" alt=\"Open In Colab\"/></a>"
      ]
    },
    {
      "cell_type": "code",
      "source": [
        "#1\n",
        "f = open(\"newfile.txt\", 'w')\n",
        "f.close()\n",
        "\n",
        "f = open(\"e:/python/Day10/newfile.txt\", 'w')\n",
        "f.close()"
      ],
      "metadata": {
        "id": "v7k5g89QgDMU"
      },
      "execution_count": null,
      "outputs": []
    },
    {
      "cell_type": "code",
      "source": [
        "#2-1\n",
        "f = open('ex_memo,txt', 'w')\n",
        "students = ['강해린','김민지','이혜인','모다니','팜하니']\n",
        "for student in students:\n",
        "\t\tmsg = student\n",
        "\t\tf.write(msg+\"\\n\")\n",
        "f.close()"
      ],
      "metadata": {
        "id": "GSGKLHn7fPCe"
      },
      "execution_count": 2,
      "outputs": []
    },
    {
      "cell_type": "code",
      "source": [
        "#2-2\n",
        "file = open('hello.txt','w') # hello .txt 파일을 쓰기 모드(w)로 열기. 파일 객체 반환\n",
        "file.write('hello, world!!!!!') # 파일에 문자열 저장\n",
        "file.close()"
      ],
      "metadata": {
        "id": "sc4vENpZgGa0"
      },
      "execution_count": null,
      "outputs": []
    },
    {
      "cell_type": "code",
      "source": [
        "#2-3\n",
        "f = open('test.txt','w',encoding='UTF-8')\n",
        "\n",
        "for i in range(4,10):\n",
        "\t\tdata = \"%d 번 째 줄입니다. \\n\"%i\n",
        "\t\tf.write(data)\n",
        "f.close()"
      ],
      "metadata": {
        "id": "LFEX-mCrhWZS"
      },
      "execution_count": null,
      "outputs": []
    },
    {
      "cell_type": "code",
      "source": [
        "#2-4\n",
        "dict1 = {'Hi' : 1, 'QuartZ' : 2}\n",
        "file1 = open(\"Original.txt\", \"w\")\n",
        "\n",
        "str1 = repr(dict1) # <---- 변수를 문자열로 변환\n",
        "file1.write(\"dict1 = \" + str1 + \"\\n\")\n",
        "\n",
        "file1.close()"
      ],
      "metadata": {
        "id": "7emQwvbIiQm4"
      },
      "execution_count": 3,
      "outputs": []
    },
    {
      "cell_type": "code",
      "source": [
        "#2-5\n",
        "test_file = open(\"test.txt\",\"w\")\n",
        "\n",
        "a = 69\n",
        "b = 74\n",
        "test_file.write('%d + %d = %d' %(a, b, a+b))\n",
        "\n",
        "test_file.close"
      ],
      "metadata": {
        "id": "hYbBHU2yjE1v"
      },
      "execution_count": null,
      "outputs": []
    },
    {
      "cell_type": "code",
      "source": [
        "#2-6\n",
        "from random import randint  #난수 생성 랜덤 int를 가져옴\n",
        "\n",
        "\n",
        "with open('text.txt', 'w') as f:\n",
        "   f.write('이번주 로또 번호는 ->')\n",
        "   for lotto in range(6):\n",
        "      f.write(str(randint(0,50)) +' , ')"
      ],
      "metadata": {
        "id": "OgowOD-3jisz"
      },
      "execution_count": null,
      "outputs": []
    },
    {
      "cell_type": "code",
      "source": [
        "#3-1\n",
        "lines = ['안녕하세요.\\n','파이썬\\n','코딩배우는 QuartZ 입니다.\\n']\n",
        "\n",
        "with open('hello.txt','w') as file: # <---- with 를 사용하여 파일 만들기\n",
        "# hello.txt 파일을 쓰기 모드(w)로 열기\n",
        "    file.writelines(lines)\n",
        "    print(msg)\n",
        "file.close()"
      ],
      "metadata": {
        "id": "at8l0HIskcPl"
      },
      "execution_count": null,
      "outputs": []
    },
    {
      "cell_type": "code",
      "source": [
        "#4\n",
        "f = open('ex_memo1,txt', 'w')\n",
        "students = ['강해린','김민지','이혜인','모다니','팜하니']\n",
        "for student in students:\n",
        "\t\tmsg = student\n",
        "\t\tf.write(msg+\" \")\n",
        "f.close()\n",
        "\n",
        "f = open('ex_memo2,txt', 'w')\n",
        "students = ['강해린','김민지','이혜인','모다니','팜하니']\n",
        "f.writelines('\\n'.join(students))\n",
        "f.close()"
      ],
      "metadata": {
        "id": "dpqThIGfk1ri"
      },
      "execution_count": null,
      "outputs": []
    },
    {
      "cell_type": "code",
      "source": [
        "#5-1\n",
        "#파일 r 모드로 열기\n",
        "f = open('12.txt', 'r')\n",
        "\n",
        "# read() 함수 이용해서 하나씩 읽어오기\n",
        "print('\\n1. read()')\n",
        "print(f'위치 : {f.tell()}')\n",
        "s1 = f.read(2)\n",
        "print(s1)\n",
        "print(f'위치 : {f.tell()}')"
      ],
      "metadata": {
        "id": "bYGrtp6XsY3_"
      },
      "execution_count": null,
      "outputs": []
    },
    {
      "cell_type": "code",
      "source": [
        "#5-2\n",
        "f = open('12.txt', 'r')\n",
        "\n",
        "print('\\n2. readline()')\n",
        "print(f'위치 : {f.tell()}')\n",
        "\n",
        "s2 = f.readline()\n",
        "print(s2)\n",
        "\n",
        "s2 = f.readline()\n",
        "print(s2)\n",
        "\n",
        "s2 = f.readline()\n",
        "print(s2)"
      ],
      "metadata": {
        "id": "OBlIsUtytZNl"
      },
      "execution_count": null,
      "outputs": []
    },
    {
      "cell_type": "code",
      "source": [
        "#5-3\n",
        "f = open('12.txt', 'r')\n",
        "\n",
        "print('\\n2. readline()')\n",
        "print(f'위치 : {f.tell()}')\n",
        "\n",
        "s2 = f.readline()\n",
        "print(s2)"
      ],
      "metadata": {
        "id": "d5kDrzpntfX1"
      },
      "execution_count": null,
      "outputs": []
    },
    {
      "cell_type": "code",
      "source": [
        "#6\n",
        "#파일 r 모드로 열기\n",
        "f = open('12.txt', 'r')\n",
        "\n",
        "# read() 함수 이용해서 하나씩 읽어오기\n",
        "print('\\n1. read()')\n",
        "print(f'위치 : {f.tell()}')\n",
        "s1 = f.read(1)\n",
        "print(s1)\n",
        "print(f'위치 : {f.tell()}')\n",
        "s1 = f.read(1)\n",
        "print(s1)\n",
        "\n",
        "print(f'위치 : {f.tell()}')\n"
      ],
      "metadata": {
        "id": "2R-2K2vdooZ4"
      },
      "execution_count": null,
      "outputs": []
    },
    {
      "cell_type": "code",
      "source": [
        "#7\n",
        "#파일 r 모드로 열기\n",
        "f = open('test.txt','r',encoding='UTF-8')\n",
        "line = f.readline() #파일의 라인 끝에 줄 바꿈 (\\n) 이 있을 경우 줄바꿈을 포함합니다.\n",
        "line = line.strip() #줄 바꿈 (\\n) 제거\n",
        "print(line) #1번째 줄입니다.\n",
        "line = f.readline()\n",
        "line = line.strip()\n",
        "print(line) #2번째 줄입니다.\n",
        "line = f.readline()\n",
        "line = line.strip()\n",
        "print(line) #3번째 줄입니다.\n",
        "\n",
        "f.close()"
      ],
      "metadata": {
        "id": "kkEcix4HvAHi"
      },
      "execution_count": null,
      "outputs": []
    },
    {
      "cell_type": "code",
      "source": [
        "#8\n",
        "#파일 r 모드로 열기\n",
        "f = open('test.txt','r',encoding='UTF-8')\n",
        "line = f.readline() #파일의 라인 끝에 줄 바꿈 (\\n) 이 있을 경우 줄바꿈을 포함합니다.\n",
        "line = line.strip() #줄 바꿈 (\\n) 제거\n",
        "print(line) #1번째 줄입니다.\n",
        "line = f.readline()\n",
        "line = line.strip()\n",
        "print(line) #2번째 줄입니다.\n",
        "line = f.readline()\n",
        "line = line.strip()\n",
        "print(line) #3번째 줄입니다.\n",
        "f.seek(0)\n",
        "line = f.readline()\n",
        "line = line.strip()\n",
        "print(line) #4번째 줄입니다.\n",
        "\n",
        "f.close()\n"
      ],
      "metadata": {
        "id": "J_m2gR_wvYB5"
      },
      "execution_count": null,
      "outputs": []
    }
  ]
}
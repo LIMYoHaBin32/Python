{
  "nbformat": 4,
  "nbformat_minor": 0,
  "metadata": {
    "colab": {
      "provenance": [],
      "authorship_tag": "ABX9TyPDorQD6YO04xpyzcAM+mF7",
      "include_colab_link": true
    },
    "kernelspec": {
      "name": "python3",
      "display_name": "Python 3"
    },
    "language_info": {
      "name": "python"
    }
  },
  "cells": [
    {
      "cell_type": "markdown",
      "metadata": {
        "id": "view-in-github",
        "colab_type": "text"
      },
      "source": [
        "<a href=\"https://colab.research.google.com/github/LIMYoHaBin32/Python/blob/main/%ED%8C%8C%EC%9D%B4%EC%8D%AC10%EC%B0%A8%EC%8B%9C.ipynb\" target=\"_parent\"><img src=\"https://colab.research.google.com/assets/colab-badge.svg\" alt=\"Open In Colab\"/></a>"
      ]
    },
    {
      "cell_type": "code",
      "execution_count": null,
      "metadata": {
        "id": "OYuXUr12my9a"
      },
      "outputs": [],
      "source": [
        "#1\n",
        "def my_avg(x1, x2):\n",
        "    \"\"\"\n",
        "    This function calculates average value of two numbers\n",
        "    x1: first input number\n",
        "    x2: second input number\n",
        "    \"\"\"\n",
        "    avg_val = (float(x1) + float(x2))/2\n",
        "    return avg_val"
      ]
    },
    {
      "cell_type": "code",
      "source": [
        "#2-1\n",
        "def func1():\n",
        "    print('QuartZ')\n",
        "\n",
        "# 함수 호출\n",
        "func1()\n",
        "func1()\n",
        "func1()"
      ],
      "metadata": {
        "colab": {
          "base_uri": "https://localhost:8080/"
        },
        "id": "mFdScJPeqQ04",
        "outputId": "181e7fa1-e4d9-401d-9a41-178e9d511e43"
      },
      "execution_count": null,
      "outputs": [
        {
          "output_type": "stream",
          "name": "stdout",
          "text": [
            "QuartZ\n",
            "QuartZ\n",
            "QuartZ\n"
          ]
        }
      ]
    },
    {
      "cell_type": "code",
      "source": [
        "#2-2\n",
        "def func2(a, b):\n",
        "\t\tprint(f'{a} 곱하기 {b} = {a * b}')\n",
        "\n",
        "# 함수 호출\n",
        "func2(1, 2)\n",
        "func2(1, 3)\n",
        "func2(2, 4)"
      ],
      "metadata": {
        "colab": {
          "base_uri": "https://localhost:8080/"
        },
        "id": "4dMUlMFnqeGQ",
        "outputId": "f4d288df-5b43-4a16-df93-6bbeacf61258"
      },
      "execution_count": null,
      "outputs": [
        {
          "output_type": "stream",
          "name": "stdout",
          "text": [
            "1 곱하기 2 = 2\n",
            "1 곱하기 3 = 3\n",
            "2 곱하기 4 = 8\n"
          ]
        }
      ]
    },
    {
      "cell_type": "code",
      "source": [
        "#2-3\n",
        "def func3():\n",
        "    return \"abcdefg\"\n",
        "\n",
        "# 함수 호출\n",
        "a = func3()\n",
        "print(a + \"GG\")"
      ],
      "metadata": {
        "colab": {
          "base_uri": "https://localhost:8080/"
        },
        "id": "-x_pjpLHq0OQ",
        "outputId": "eb2cc059-2452-4677-99da-1a8e89cfeeb8"
      },
      "execution_count": null,
      "outputs": [
        {
          "output_type": "stream",
          "name": "stdout",
          "text": [
            "abcdefgGG\n"
          ]
        }
      ]
    },
    {
      "cell_type": "code",
      "source": [
        "#3-1\n",
        "# 구구단 출력\n",
        "for i in range(1, 10):\n",
        "    print(f'{2} x {i} = {2 * i}')\n",
        "for i in range(1, 10):\n",
        "    print(f'{3} x {i} = {3 * i}')\n",
        "\n",
        "# . . .\n",
        "for i in range(1, 10):\n",
        "    print(f'{9} x {i} = {9 * i}')"
      ],
      "metadata": {
        "id": "MSrlo7mkrVh5",
        "colab": {
          "base_uri": "https://localhost:8080/"
        },
        "outputId": "4896b7f0-66da-4142-954e-0192dbdcd15e"
      },
      "execution_count": 5,
      "outputs": [
        {
          "output_type": "stream",
          "name": "stdout",
          "text": [
            "2 x 1 = 2\n",
            "2 x 2 = 4\n",
            "2 x 3 = 6\n",
            "2 x 4 = 8\n",
            "2 x 5 = 10\n",
            "2 x 6 = 12\n",
            "2 x 7 = 14\n",
            "2 x 8 = 16\n",
            "2 x 9 = 18\n",
            "3 x 1 = 3\n",
            "3 x 2 = 6\n",
            "3 x 3 = 9\n",
            "3 x 4 = 12\n",
            "3 x 5 = 15\n",
            "3 x 6 = 18\n",
            "3 x 7 = 21\n",
            "3 x 8 = 24\n",
            "3 x 9 = 27\n",
            "9 x 1 = 9\n",
            "9 x 2 = 18\n",
            "9 x 3 = 27\n",
            "9 x 4 = 36\n",
            "9 x 5 = 45\n",
            "9 x 6 = 54\n",
            "9 x 7 = 63\n",
            "9 x 8 = 72\n",
            "9 x 9 = 81\n"
          ]
        }
      ]
    },
    {
      "cell_type": "code",
      "source": [
        "#3-2\n",
        "def gugudan(num):\n",
        "    for i in range (1, 10):\n",
        "        print(f'{num} x {i} = {num * i}')\n",
        "\n",
        "# 구구단 출력\n",
        "gugudan(2)\n",
        "gugudan(3)\n",
        "# . . .\n",
        "gugudan(9)"
      ],
      "metadata": {
        "colab": {
          "base_uri": "https://localhost:8080/"
        },
        "id": "q9qdLVkXLcc1",
        "outputId": "ddc1b814-c83e-43ac-e980-e25450b1905b"
      },
      "execution_count": 7,
      "outputs": [
        {
          "output_type": "stream",
          "name": "stdout",
          "text": [
            "2 x 1 = 2\n",
            "2 x 2 = 4\n",
            "2 x 3 = 6\n",
            "2 x 4 = 8\n",
            "2 x 5 = 10\n",
            "2 x 6 = 12\n",
            "2 x 7 = 14\n",
            "2 x 8 = 16\n",
            "2 x 9 = 18\n",
            "3 x 1 = 3\n",
            "3 x 2 = 6\n",
            "3 x 3 = 9\n",
            "3 x 4 = 12\n",
            "3 x 5 = 15\n",
            "3 x 6 = 18\n",
            "3 x 7 = 21\n",
            "3 x 8 = 24\n",
            "3 x 9 = 27\n",
            "9 x 1 = 9\n",
            "9 x 2 = 18\n",
            "9 x 3 = 27\n",
            "9 x 4 = 36\n",
            "9 x 5 = 45\n",
            "9 x 6 = 54\n",
            "9 x 7 = 63\n",
            "9 x 8 = 72\n",
            "9 x 9 = 81\n"
          ]
        }
      ]
    },
    {
      "cell_type": "code",
      "source": [
        "#4-1\n",
        "# 디폴트 파라미터 예제 1\n",
        "def func1(a, b=5, c=10):\n",
        "    return a + b + c\n",
        "\n",
        "func1(1, 2, 3)  # 1 + 2 + 3\n",
        "func1(1, 2) # 1 + 2 + 10\n",
        "func1(1)  # 1 + 5 + 10\n",
        "# fun1() error\n",
        "\n",
        "# 디폴트 파라미터 예제 2\n",
        "def func2(a=10, b=20):\n",
        "    return a + b\n",
        "\n",
        "func2(1, 2) # 1 + 2\n",
        "func2(1)  # 1 + 20\n",
        "func2() # 10 + 20"
      ],
      "metadata": {
        "colab": {
          "base_uri": "https://localhost:8080/"
        },
        "id": "n-Xcn0-YMRih",
        "outputId": "b0d4ca0c-7477-4622-d321-bfb3d1263fef"
      },
      "execution_count": 10,
      "outputs": [
        {
          "output_type": "execute_result",
          "data": {
            "text/plain": [
              "30"
            ]
          },
          "metadata": {},
          "execution_count": 10
        }
      ]
    },
    {
      "cell_type": "code",
      "source": [
        "#4-2\n",
        "def func3(a = 10, b, c):  # error\n",
        "    return a + b + c\n",
        "\n",
        "func3(1, 2) # 1이a이고 2가 b에 들어가는 거겠지..?\n",
        "            # 왓 츄 원? error\n",
        "func3( , 1, 2)  # 이걸 원해? error\n",
        ""
      ],
      "metadata": {
        "colab": {
          "base_uri": "https://localhost:8080/",
          "height": 111
        },
        "id": "zWR152t4NpFc",
        "outputId": "656b24c4-b4d2-472f-ea43-031c605f2c81"
      },
      "execution_count": 11,
      "outputs": [
        {
          "output_type": "error",
          "ename": "SyntaxError",
          "evalue": "non-default argument follows default argument (<ipython-input-11-36add1931f2b>, line 2)",
          "traceback": [
            "\u001b[0;36m  File \u001b[0;32m\"<ipython-input-11-36add1931f2b>\"\u001b[0;36m, line \u001b[0;32m2\u001b[0m\n\u001b[0;31m    def func3(a = 10, b, c):  # error\u001b[0m\n\u001b[0m                      ^\u001b[0m\n\u001b[0;31mSyntaxError\u001b[0m\u001b[0;31m:\u001b[0m non-default argument follows default argument\n"
          ]
        }
      ]
    },
    {
      "cell_type": "code",
      "source": [
        "#5-1\n",
        "def func6(*args):\n",
        "    a = 0\n",
        "    for i in args:\n",
        "        a = a + i\n",
        "    return a\n",
        "\n",
        "b = func6(1, 2)\n",
        "print(b)\n",
        "\n",
        "c = func6(2, 3, 4, 5)\n",
        "print(c)\n",
        "\n",
        "d = func6(1, 2, 3, 4, 5, 4, 3, 2, 1)\n",
        "print(d)\n",
        "\n",
        "e = func6()\n",
        "print(e)"
      ],
      "metadata": {
        "colab": {
          "base_uri": "https://localhost:8080/"
        },
        "id": "GR5yR0GHObtm",
        "outputId": "103987ac-95d2-4dd5-b9c2-fece208adb24"
      },
      "execution_count": 12,
      "outputs": [
        {
          "output_type": "stream",
          "name": "stdout",
          "text": [
            "3\n",
            "14\n",
            "25\n",
            "0\n"
          ]
        }
      ]
    },
    {
      "cell_type": "code",
      "source": [
        "#5-2\n",
        "def test(*val):\n",
        "    for i in val:\n",
        "        print(i)\n",
        "\n",
        "test(1, 'a','c',3)"
      ],
      "metadata": {
        "colab": {
          "base_uri": "https://localhost:8080/"
        },
        "id": "jDKR6sT6PPJL",
        "outputId": "265440f9-c200-4760-b8bb-8c70eda9a3e0"
      },
      "execution_count": 13,
      "outputs": [
        {
          "output_type": "stream",
          "name": "stdout",
          "text": [
            "1\n",
            "a\n",
            "c\n",
            "3\n"
          ]
        }
      ]
    },
    {
      "cell_type": "code",
      "source": [
        "#5-3\n",
        "def sum_mul(choice, *val):\n",
        "    if choice == 'sum':\n",
        "        result = 0\n",
        "        for i in val:\n",
        "          result = result + i\n",
        "    elif choice == 'mul':\n",
        "        result = 0\n",
        "        for i in val:\n",
        "          result = result * 1\n",
        "    return result\n",
        "\n",
        "\n",
        "print (sum_mul('sum', 1,2,3,4,5 ))\n",
        "\n",
        "print (sum_mul('mul', 1,2,3,4,5 ))"
      ],
      "metadata": {
        "colab": {
          "base_uri": "https://localhost:8080/"
        },
        "id": "pCJxltMDPrSx",
        "outputId": "403961f3-3e46-447e-c1a3-9c0d8febfa4d"
      },
      "execution_count": 20,
      "outputs": [
        {
          "output_type": "stream",
          "name": "stdout",
          "text": [
            "15\n",
            "0\n"
          ]
        }
      ]
    },
    {
      "cell_type": "code",
      "source": [
        "#6-1\n",
        "def comp (score=0):\n",
        "    if score == 0:\n",
        "        return 0\n",
        "    elif score > 50:\n",
        "        return 2\n",
        "    else:\n",
        "        return 1\n",
        "\n",
        "grade = comp (69)\n",
        "print (\"Grade is\", grade, \"for\", 69)\n",
        "\n",
        "grade = comp (74)\n",
        "print (\"Grade is\", grade, \"for\", 74)\n",
        "\n",
        "grade = comp ()\n",
        "print (\"Grade is\", grade, \"for no score\")"
      ],
      "metadata": {
        "colab": {
          "base_uri": "https://localhost:8080/"
        },
        "id": "FP58Q-YeROgi",
        "outputId": "683a4cf1-3554-456a-ab5d-b5ccf35e93af"
      },
      "execution_count": 23,
      "outputs": [
        {
          "output_type": "stream",
          "name": "stdout",
          "text": [
            "Grade is 2 for 69\n",
            "Grade is 2 for 74\n",
            "Grade is 0 for no score\n"
          ]
        }
      ]
    },
    {
      "cell_type": "code",
      "source": [
        "#7-1\n",
        "def report(name, age, score):\n",
        "    print(name, score)\n",
        "\n",
        "report(age=19, name=\"QuartZ\", score=74)"
      ],
      "metadata": {
        "colab": {
          "base_uri": "https://localhost:8080/"
        },
        "id": "XXxQWlqJSLS1",
        "outputId": "5d5cb482-5ebd-4cdc-dd5c-65eb40fa7e3c"
      },
      "execution_count": 24,
      "outputs": [
        {
          "output_type": "stream",
          "name": "stdout",
          "text": [
            "QuartZ 74\n"
          ]
        }
      ]
    }
  ]
}
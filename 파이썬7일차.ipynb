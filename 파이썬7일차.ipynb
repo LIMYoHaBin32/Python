{
  "nbformat": 4,
  "nbformat_minor": 0,
  "metadata": {
    "colab": {
      "provenance": [],
      "authorship_tag": "ABX9TyMmYTGlmWRXiUeoHmxTpYaD",
      "include_colab_link": true
    },
    "kernelspec": {
      "name": "python3",
      "display_name": "Python 3"
    },
    "language_info": {
      "name": "python"
    }
  },
  "cells": [
    {
      "cell_type": "markdown",
      "metadata": {
        "id": "view-in-github",
        "colab_type": "text"
      },
      "source": [
        "<a href=\"https://colab.research.google.com/github/LIMYoHaBin32/Python/blob/main/%ED%8C%8C%EC%9D%B4%EC%8D%AC7%EC%9D%BC%EC%B0%A8.ipynb\" target=\"_parent\"><img src=\"https://colab.research.google.com/assets/colab-badge.svg\" alt=\"Open In Colab\"/></a>"
      ]
    },
    {
      "cell_type": "code",
      "execution_count": 5,
      "metadata": {
        "colab": {
          "base_uri": "https://localhost:8080/"
        },
        "id": "u_VIUu9E-DZM",
        "outputId": "88cee1de-88fa-4baf-b723-af4bf73879c7"
      },
      "outputs": [
        {
          "output_type": "stream",
          "name": "stdout",
          "text": [
            "9\n",
            "13\n",
            "5\n"
          ]
        }
      ],
      "source": [
        "#1\n",
        "name = 'LeeMinJun'\n",
        "phone = '010 xxxx xxxx'\n",
        "address = 'korea'\n",
        "print(len(name)) #9\n",
        "print(len(phone)) #13\n",
        "print(len(address)) #5"
      ]
    },
    {
      "cell_type": "code",
      "source": [
        "#3-1\n",
        "a = [1, 2, 3]\n",
        "print(min(a))"
      ],
      "metadata": {
        "colab": {
          "base_uri": "https://localhost:8080/"
        },
        "id": "g94w6p16BlS2",
        "outputId": "3a7d487e-0368-4d69-9062-ed6082db3769"
      },
      "execution_count": 7,
      "outputs": [
        {
          "output_type": "stream",
          "name": "stdout",
          "text": [
            "1\n"
          ]
        }
      ]
    },
    {
      "cell_type": "code",
      "source": [
        "#3-2\n",
        "b = 'LeeMinJun'\n",
        "print(min(b))"
      ],
      "metadata": {
        "colab": {
          "base_uri": "https://localhost:8080/"
        },
        "id": "kg1nWISqBvyG",
        "outputId": "fb57152e-ee22-4e68-bedf-6b494254a01e"
      },
      "execution_count": 8,
      "outputs": [
        {
          "output_type": "stream",
          "name": "stdout",
          "text": [
            "J\n"
          ]
        }
      ]
    },
    {
      "cell_type": "code",
      "source": [
        "#3-3\n",
        "c = 1\n",
        "print(min(c))"
      ],
      "metadata": {
        "colab": {
          "base_uri": "https://localhost:8080/",
          "height": 185
        },
        "id": "YWQNv0HAB47m",
        "outputId": "a01dbe74-ad71-4eab-f6e9-e17d7232a9a0"
      },
      "execution_count": 9,
      "outputs": [
        {
          "output_type": "error",
          "ename": "TypeError",
          "evalue": "'int' object is not iterable",
          "traceback": [
            "\u001b[0;31m---------------------------------------------------------------------------\u001b[0m",
            "\u001b[0;31mTypeError\u001b[0m                                 Traceback (most recent call last)",
            "\u001b[0;32m<ipython-input-9-6acc36d496ca>\u001b[0m in \u001b[0;36m<cell line: 3>\u001b[0;34m()\u001b[0m\n\u001b[1;32m      1\u001b[0m \u001b[0;31m#3\u001b[0m\u001b[0;34m\u001b[0m\u001b[0;34m\u001b[0m\u001b[0m\n\u001b[1;32m      2\u001b[0m \u001b[0mc\u001b[0m \u001b[0;34m=\u001b[0m \u001b[0;36m1\u001b[0m\u001b[0;34m\u001b[0m\u001b[0;34m\u001b[0m\u001b[0m\n\u001b[0;32m----> 3\u001b[0;31m \u001b[0mprint\u001b[0m\u001b[0;34m(\u001b[0m\u001b[0mmin\u001b[0m\u001b[0;34m(\u001b[0m\u001b[0mc\u001b[0m\u001b[0;34m)\u001b[0m\u001b[0;34m)\u001b[0m\u001b[0;34m\u001b[0m\u001b[0;34m\u001b[0m\u001b[0m\n\u001b[0m",
            "\u001b[0;31mTypeError\u001b[0m: 'int' object is not iterable"
          ]
        }
      ]
    },
    {
      "cell_type": "code",
      "source": [
        "#3-4\n",
        "d = (6, 5, 4, 2)\n",
        "print(min(d))"
      ],
      "metadata": {
        "colab": {
          "base_uri": "https://localhost:8080/"
        },
        "id": "yTk4cz6mCC8V",
        "outputId": "3b3576a0-60b6-4c64-8ec3-50f85ca9ba9e"
      },
      "execution_count": 10,
      "outputs": [
        {
          "output_type": "stream",
          "name": "stdout",
          "text": [
            "2\n"
          ]
        }
      ]
    },
    {
      "cell_type": "code",
      "source": [
        "#3-5\n",
        "e = [3, 4, 5, 'a', 'b', 'c']"
      ],
      "metadata": {
        "id": "u1VED0adCJRG"
      },
      "execution_count": 12,
      "outputs": []
    },
    {
      "cell_type": "code",
      "source": [
        "#3-6\n",
        "a = [1, 2, 3] # 리스트\n",
        "b = [4, 5, 6]\n",
        "print(min(a, b))"
      ],
      "metadata": {
        "colab": {
          "base_uri": "https://localhost:8080/"
        },
        "id": "_YzpjUgIDoju",
        "outputId": "5876f480-98f6-4826-b729-e071964e47fb"
      },
      "execution_count": 13,
      "outputs": [
        {
          "output_type": "stream",
          "name": "stdout",
          "text": [
            "[1, 2, 3]\n"
          ]
        }
      ]
    },
    {
      "cell_type": "code",
      "source": [
        "#3-7\n",
        "c = 'BlockdMask' # 문자열\n",
        "d = 'BAAAlockDMask'\n",
        "print(min(c, d))"
      ],
      "metadata": {
        "colab": {
          "base_uri": "https://localhost:8080/"
        },
        "id": "M3YwSpmFDyoW",
        "outputId": "fc39b34a-881c-4c0c-bba7-b8253ea826f2"
      },
      "execution_count": 14,
      "outputs": [
        {
          "output_type": "stream",
          "name": "stdout",
          "text": [
            "BAAAlockDMask\n"
          ]
        }
      ]
    },
    {
      "cell_type": "code",
      "source": [
        "#3-8\n",
        "e = [3, 2, 1] # 타입이 다른 경우\n",
        "f = ['a', 3, 2, 1]\n",
        "print(min(e, f))"
      ],
      "metadata": {
        "colab": {
          "base_uri": "https://localhost:8080/",
          "height": 185
        },
        "id": "Vi2umR2xD33n",
        "outputId": "0ac6afdc-55b9-4df6-df63-c8df0713fe64"
      },
      "execution_count": 16,
      "outputs": [
        {
          "output_type": "error",
          "ename": "TypeError",
          "evalue": "'<' not supported between instances of 'str' and 'int'",
          "traceback": [
            "\u001b[0;31m---------------------------------------------------------------------------\u001b[0m",
            "\u001b[0;31mTypeError\u001b[0m                                 Traceback (most recent call last)",
            "\u001b[0;32m<ipython-input-16-339ab1c9fb51>\u001b[0m in \u001b[0;36m<cell line: 4>\u001b[0;34m()\u001b[0m\n\u001b[1;32m      2\u001b[0m \u001b[0me\u001b[0m \u001b[0;34m=\u001b[0m \u001b[0;34m[\u001b[0m\u001b[0;36m3\u001b[0m\u001b[0;34m,\u001b[0m \u001b[0;36m2\u001b[0m\u001b[0;34m,\u001b[0m \u001b[0;36m1\u001b[0m\u001b[0;34m]\u001b[0m \u001b[0;31m# 타입이 다른 경우\u001b[0m\u001b[0;34m\u001b[0m\u001b[0;34m\u001b[0m\u001b[0m\n\u001b[1;32m      3\u001b[0m \u001b[0mf\u001b[0m \u001b[0;34m=\u001b[0m \u001b[0;34m[\u001b[0m\u001b[0;34m'a'\u001b[0m\u001b[0;34m,\u001b[0m \u001b[0;36m3\u001b[0m\u001b[0;34m,\u001b[0m \u001b[0;36m2\u001b[0m\u001b[0;34m,\u001b[0m \u001b[0;36m1\u001b[0m\u001b[0;34m]\u001b[0m\u001b[0;34m\u001b[0m\u001b[0;34m\u001b[0m\u001b[0m\n\u001b[0;32m----> 4\u001b[0;31m \u001b[0mprint\u001b[0m\u001b[0;34m(\u001b[0m\u001b[0mmin\u001b[0m\u001b[0;34m(\u001b[0m\u001b[0me\u001b[0m\u001b[0;34m,\u001b[0m \u001b[0mf\u001b[0m\u001b[0;34m)\u001b[0m\u001b[0;34m)\u001b[0m\u001b[0;34m\u001b[0m\u001b[0;34m\u001b[0m\u001b[0m\n\u001b[0m",
            "\u001b[0;31mTypeError\u001b[0m: '<' not supported between instances of 'str' and 'int'"
          ]
        }
      ]
    },
    {
      "cell_type": "code",
      "source": [
        "#3-9\n",
        "g = [2, 3, 4]\n",
        "h = [2, 2, 2, 2, 2]\n",
        "i = [9, 8, 7, 6, 5]\n",
        "j = [1]\n",
        "k = [0]\n",
        "print(min(g, h, i, j, k))"
      ],
      "metadata": {
        "colab": {
          "base_uri": "https://localhost:8080/"
        },
        "id": "bfbUsz2GEe6e",
        "outputId": "bad0adf9-25d2-481e-a7da-0d9d7f4de5d3"
      },
      "execution_count": 17,
      "outputs": [
        {
          "output_type": "stream",
          "name": "stdout",
          "text": [
            "[0]\n"
          ]
        }
      ]
    },
    {
      "cell_type": "code",
      "source": [
        "#4-1\n",
        "myString = \"everdevel\"\n",
        "print(myString.count('e'))"
      ],
      "metadata": {
        "colab": {
          "base_uri": "https://localhost:8080/"
        },
        "id": "hJumdE1cFWf2",
        "outputId": "1132e11f-da45-433c-e15e-d81a9a609ade"
      },
      "execution_count": 18,
      "outputs": [
        {
          "output_type": "stream",
          "name": "stdout",
          "text": [
            "4\n"
          ]
        }
      ]
    },
    {
      "cell_type": "code",
      "source": [
        "#4-2\n",
        "# 문자열 'BlockDMask' 선언\n",
        "a = 'BlockDMask'\n",
        "\n",
        "# 문자열에서  'k' 가 몇개 있는 지?\n",
        "print('#1 a.count(\"k\")')\n",
        "print(a.count('k')) # 문자열에서 'DM'가 몇개 있는지?\n",
        "print('#2 a.count(\"DM\")')\n",
        "print(a.count('DM'))"
      ],
      "metadata": {
        "colab": {
          "base_uri": "https://localhost:8080/"
        },
        "id": "PURlWVBoFcqe",
        "outputId": "c35f2f39-9dc8-4bdd-b9c0-8aa43e55e3c2"
      },
      "execution_count": 19,
      "outputs": [
        {
          "output_type": "stream",
          "name": "stdout",
          "text": [
            "#1 a.count(\"k\")\n",
            "2\n",
            "#2 a.count(\"DM\")\n",
            "1\n"
          ]
        }
      ]
    },
    {
      "cell_type": "code",
      "source": [
        "#4-3\n",
        "# 문자열에서 특정 범위 내부에 'k' 가 몇개 있는지?\n",
        "# B l o c k D M a s k 에서 index를 표기해보면\n",
        "# 0 1 2 3 4 5 6 7 8 9 입니다.\n",
        "print(\"#3 a[2] + ' ~ ' + a[4]\")\n",
        "print(a[2] + ' ~ ' + a[4])\n",
        "print(\"#4 a.count('k', 2, 3)\")\n",
        "print(a.count('k', 2, 3))\n",
        "print(\"#5 a.count('k', 2, 4)\")\n",
        "print(a.count('k', 2, 4))\n",
        "print(\"#6 a.count('k', 2, 5)\")\n",
        "print(a.count('k', 2, 5))"
      ],
      "metadata": {
        "colab": {
          "base_uri": "https://localhost:8080/"
        },
        "id": "_egMCHRrFlqu",
        "outputId": "07192222-d253-4dfd-c0b1-53d8f0aa97a3"
      },
      "execution_count": 20,
      "outputs": [
        {
          "output_type": "stream",
          "name": "stdout",
          "text": [
            "#3 a[2] + ' ~ ' + a[4]\n",
            "o ~ k\n",
            "#4 a.count('k', 2, 3)\n",
            "0\n",
            "#5 a.count('k', 2, 4)\n",
            "0\n",
            "#6 a.count('k', 2, 5)\n",
            "1\n"
          ]
        }
      ]
    },
    {
      "cell_type": "code",
      "source": [
        "#5-1\n",
        "str= \"BlockDMask Blog.\";\n",
        "print(f\"str : {str}\\n\")\n",
        "\n",
        "# find 예제1\n",
        "print(\"1. str.find('찾을 문자')\")\n",
        "result1 = str.find( 'a')\n",
        "\n",
        "# 문자가 있는 경우\n",
        "result2 = str.find('Z')\n",
        "\n",
        "# 문자가 없는 경우\n",
        "print(f\"str.find('a') : {result1}\")\n",
        "print(f\"str.find('Z') : {result2}\")\n",
        "result3 = str.find('ask')"
      ],
      "metadata": {
        "colab": {
          "base_uri": "https://localhost:8080/"
        },
        "id": "c_g72VKgGDBX",
        "outputId": "5e6dea5e-4bb6-4964-f135-9e21d2d62eb4"
      },
      "execution_count": 24,
      "outputs": [
        {
          "output_type": "stream",
          "name": "stdout",
          "text": [
            "str : BlockDMask Blog.\n",
            "\n",
            "1. str.find('찾을 문자')\n",
            "str.find('a') : 7\n",
            "str.find('Z') : -1\n"
          ]
        }
      ]
    },
    {
      "cell_type": "code",
      "source": [
        "#5-2\n",
        "# 문자열이 있는 경우\n",
        "result4 = str.find('kkk')\n",
        "# 문자열이 없는 경우\n",
        "print(f\"str.find('ask') : {result3}\")\n",
        "print(f\"str.find('kkk') : {result4}\")\n",
        "print()\n",
        "\n",
        "# find 예제2\n",
        "print(\"2. str.find('찾을 문자', 시작index)\")\n",
        "result5 = str.find('o')\n",
        "result6 = str.find('o', 5)\n",
        "print(f\"str.find('o') : {result5}\")\n",
        "print(f\"str[5] : {str[5]}\")\n",
        "print(f\"str.find('o', 5) : {result6}\")\n",
        "print()\n",
        "\n"
      ],
      "metadata": {
        "colab": {
          "base_uri": "https://localhost:8080/"
        },
        "id": "poq_X0GpGbFW",
        "outputId": "914dcfd7-9e0e-4064-f3d0-abe4a3859776"
      },
      "execution_count": 26,
      "outputs": [
        {
          "output_type": "stream",
          "name": "stdout",
          "text": [
            "str.find('ask') : 7\n",
            "str.find('kkk') : -1\n",
            "\n",
            "2. str.find('찾을 문자', 시작index)\n",
            "str.find('o') : 2\n",
            "str[5] : D\n",
            "str.find('o', 5) : 13\n",
            "\n"
          ]
        }
      ]
    },
    {
      "cell_type": "code",
      "source": [
        "#5-3\n",
        "# find 예제3\n",
        "print(\"3. str.find('찾을 문자', 시작 index, 끝 index)\")\n",
        "result7 = str.find('o')\n",
        "result8 = str.find('o', 5, 11)\n",
        "\n",
        "\n",
        "# \"DMask B\"\n",
        "print(f\"str.find('o') : {result7}\")\n",
        "print(f\"str[5]~str[11] : {str[5]} ~ {str[11]}\")\n",
        "print(f\"str.find('o', 5, 11) : {result8}\")"
      ],
      "metadata": {
        "colab": {
          "base_uri": "https://localhost:8080/"
        },
        "id": "fY2iadtrGteP",
        "outputId": "838005a0-a079-4fde-a6cb-429b1e1e6788"
      },
      "execution_count": 27,
      "outputs": [
        {
          "output_type": "stream",
          "name": "stdout",
          "text": [
            "3. str.find('찾을 문자', 시작 index, 끝 index)\n",
            "str.find('o') : 2\n",
            "str[5]~str[11] : D ~ B\n",
            "str.find('o', 5, 11) : -1\n"
          ]
        }
      ]
    },
    {
      "cell_type": "code",
      "source": [
        "#5-4\n",
        "# find 예제3\n",
        "print(\"3. str.find('찾을 문자', 시작 index, 끝 index)\")\n",
        "result7 = str.find('o')\n",
        "result8 = str.find('o', 5, 11)\n",
        "\n",
        "\n",
        "# \"DMask B\"\n",
        "print(f\"str.find('o') : {result7}\")\n",
        "print(f\"str[5]~str[11] : {str[5]} ~ {str[11]}\")\n",
        "print(f\"str.find('o', 5, 11) : {result8}\")"
      ],
      "metadata": {
        "colab": {
          "base_uri": "https://localhost:8080/"
        },
        "id": "N1jLum0iG_vO",
        "outputId": "aafa5ec8-a578-4963-fb2f-bc55fb1b8106"
      },
      "execution_count": 29,
      "outputs": [
        {
          "output_type": "stream",
          "name": "stdout",
          "text": [
            "3. str.find('찾을 문자', 시작 index, 끝 index)\n",
            "str.find('o') : 2\n",
            "str[5]~str[11] : D ~ B\n",
            "str.find('o', 5, 11) : -1\n"
          ]
        }
      ]
    },
    {
      "cell_type": "code",
      "source": [
        "#6\n",
        "str = 'Hello world, Python!'\n",
        "\n",
        "if str.startswith('Hello'):\n",
        "    print('It starts with Hello')\n",
        "\n",
        "if not str.startswith('Python'):\n",
        "    print('It does not start with Python')"
      ],
      "metadata": {
        "colab": {
          "base_uri": "https://localhost:8080/"
        },
        "id": "0jXPgVLvHSyu",
        "outputId": "91417d35-4c46-4fca-a6b2-66670207457e"
      },
      "execution_count": 32,
      "outputs": [
        {
          "output_type": "stream",
          "name": "stdout",
          "text": [
            "It starts with Hello\n",
            "It does not start with Python\n"
          ]
        }
      ]
    },
    {
      "cell_type": "code",
      "source": [
        "#7\n",
        "str = \"this is string example....wow!!!\"\n",
        "\n",
        "suffix = \"wow!!!\"\n",
        "print(str.endswith(suffix))\n",
        "print(str.endswith(suffix,20))\n",
        "\n",
        "suffix = \"is\"\n",
        "print(str.endswith(suffix, 2, 4))\n",
        "print(str.endswith(suffix, 2, 6))"
      ],
      "metadata": {
        "colab": {
          "base_uri": "https://localhost:8080/"
        },
        "id": "uL8XlPqmHwVn",
        "outputId": "905ac3bf-5107-4186-cb33-13eff7ab0bf6"
      },
      "execution_count": 34,
      "outputs": [
        {
          "output_type": "stream",
          "name": "stdout",
          "text": [
            "True\n",
            "True\n",
            "True\n",
            "False\n"
          ]
        }
      ]
    },
    {
      "cell_type": "code",
      "source": [
        "#8\n",
        "text = 'Welcome to Codetorial'\n",
        "\n",
        "pos_e_last = text.rfind('e')\n",
        "print(pos_e_last)\n",
        "\n",
        "pos_e_first = text.find('e')\n",
        "print(pos_e_first)\n",
        "\n",
        "pos_to_last = text.rfind('to')\n",
        "print(pos_to_last)\n",
        "\n",
        "pos_to_first = text.find('to')\n",
        "print(pos_to_first)"
      ],
      "metadata": {
        "colab": {
          "base_uri": "https://localhost:8080/"
        },
        "id": "H3e990HIIG9f",
        "outputId": "c5aff539-6635-4895-cf9f-55bf76e214a8"
      },
      "execution_count": 35,
      "outputs": [
        {
          "output_type": "stream",
          "name": "stdout",
          "text": [
            "14\n",
            "1\n",
            "15\n",
            "8\n"
          ]
        }
      ]
    },
    {
      "cell_type": "code",
      "source": [
        "#9-1\n",
        "a = [123, 421, 212, 11, 24, 102, 29, 92, 10]\n",
        "print(a.index(212))"
      ],
      "metadata": {
        "colab": {
          "base_uri": "https://localhost:8080/"
        },
        "id": "huuW3DMGIg2v",
        "outputId": "5531f3a0-c95d-410c-8b5a-3e0e350935cc"
      },
      "execution_count": 36,
      "outputs": [
        {
          "output_type": "stream",
          "name": "stdout",
          "text": [
            "2\n"
          ]
        }
      ]
    },
    {
      "cell_type": "code",
      "source": [
        "#9-2\n",
        "# 리스트.index(x)\n",
        "# 데이터 x의 위치 반환\n",
        "nums_list = [1,2,3,3,3,5,6,8,9]\n",
        "nums_tuple = (1,2,3,3,3,5,6,8,9)\n",
        "nums_set = {1,2,3,5,6,8,9}\n",
        "\n",
        "print(nums_list.index(2))  # 1\n",
        "print(nums_list.index(3))  # 2\n",
        "# -> 찾고자하는 데이터가 여러개 존재할 경우, 가장 작은 위치 값 반환\n",
        "\n",
        "print(nums_tuple.index(2)) # 1\n",
        "print(nums_tuple.index(3)) # 2"
      ],
      "metadata": {
        "colab": {
          "base_uri": "https://localhost:8080/"
        },
        "id": "2IH4kU-9Ikt_",
        "outputId": "76f02827-5155-4802-a036-98796040b81c"
      },
      "execution_count": 37,
      "outputs": [
        {
          "output_type": "stream",
          "name": "stdout",
          "text": [
            "1\n",
            "2\n",
            "1\n",
            "2\n"
          ]
        }
      ]
    },
    {
      "cell_type": "code",
      "source": [
        "#9-3\n",
        "#문자열에서 사용\n",
        "str = 'kangminheee'\n",
        "print(str.index('k'))  #0\n",
        "print(str.index('h'))  #7\n",
        "print(str.index('i'))  #5\n",
        "#print(str.index('l')) 없는 걸 찾으면 error\n",
        "print(str.index('e'))  #8 -> 여러개면 제일 첫번째것 반환\n",
        "print(str.find('e'))   #8 -> find()는 index()와 같은 기능을 가진 함수\n",
        "print(str.rfind('e'))  #10 -> 여러개중 가장 오른쪽 것 반환"
      ],
      "metadata": {
        "colab": {
          "base_uri": "https://localhost:8080/"
        },
        "id": "i1Y0BUt3Iru_",
        "outputId": "d2002cf3-1292-406a-bf63-7a4b3ce68966"
      },
      "execution_count": 38,
      "outputs": [
        {
          "output_type": "stream",
          "name": "stdout",
          "text": [
            "0\n",
            "7\n",
            "5\n",
            "8\n",
            "8\n",
            "10\n"
          ]
        }
      ]
    },
    {
      "cell_type": "code",
      "source": [
        "#11-1\n",
        "hz = \"홈짱닷컴 Homzzang.com\"\n",
        "\n",
        "x = hz.rindex(\"Homzzang\")\n",
        "\n",
        "print(x)\n",
        "\n",
        "x = hz.rindex(\"o\", 2)\n",
        "print(x)"
      ],
      "metadata": {
        "colab": {
          "base_uri": "https://localhost:8080/"
        },
        "id": "41Y-R-x3JUJf",
        "outputId": "16641c87-50e6-4e92-88cb-3b20dad96930"
      },
      "execution_count": 39,
      "outputs": [
        {
          "output_type": "stream",
          "name": "stdout",
          "text": [
            "5\n",
            "15\n"
          ]
        }
      ]
    },
    {
      "cell_type": "code",
      "source": [
        "#11-2\n",
        "text = 'Welcome to Codetorial'\n",
        "\n",
        "pos_Code_last = text.rindex('Code')\n",
        "print(pos_Code_last)\n",
        "\n",
        "pos_Code_last = text.rindex('Code')\n",
        "print(pos_Code_last)"
      ],
      "metadata": {
        "colab": {
          "base_uri": "https://localhost:8080/"
        },
        "id": "yvk6HvYpJbwH",
        "outputId": "365492dc-992b-4937-e31c-7358cd7dd565"
      },
      "execution_count": 43,
      "outputs": [
        {
          "output_type": "stream",
          "name": "stdout",
          "text": [
            "11\n",
            "11\n"
          ]
        }
      ]
    }
  ]
}
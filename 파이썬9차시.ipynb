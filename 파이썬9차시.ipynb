{
  "nbformat": 4,
  "nbformat_minor": 0,
  "metadata": {
    "colab": {
      "provenance": [],
      "authorship_tag": "ABX9TyO7s1jhq1nHzl9dpD7w9X3M",
      "include_colab_link": true
    },
    "kernelspec": {
      "name": "python3",
      "display_name": "Python 3"
    },
    "language_info": {
      "name": "python"
    }
  },
  "cells": [
    {
      "cell_type": "markdown",
      "metadata": {
        "id": "view-in-github",
        "colab_type": "text"
      },
      "source": [
        "<a href=\"https://colab.research.google.com/github/LIMYoHaBin32/Python/blob/main/%ED%8C%8C%EC%9D%B4%EC%8D%AC9%EC%B0%A8%EC%8B%9C.ipynb\" target=\"_parent\"><img src=\"https://colab.research.google.com/assets/colab-badge.svg\" alt=\"Open In Colab\"/></a>"
      ]
    },
    {
      "cell_type": "code",
      "execution_count": 3,
      "metadata": {
        "colab": {
          "base_uri": "https://localhost:8080/"
        },
        "id": "2KfYXi48usa2",
        "outputId": "484271f3-a6a0-4b07-ed54-07120e8bb85f"
      },
      "outputs": [
        {
          "output_type": "stream",
          "name": "stdout",
          "text": [
            "test\n",
            "test.~~\n",
            "test!\n"
          ]
        }
      ],
      "source": [
        "#1-1\n",
        "a = 'test'\n",
        "b = '~~.test.~~'\n",
        "c = '~test!'\n",
        "\n",
        "print(a.lstrip())\n",
        "print(b.lstrip('~. '))\n",
        "print(c.lstrip('~!'))\n"
      ]
    },
    {
      "cell_type": "code",
      "source": [
        "#1-2\n",
        "a = 'test'\n",
        "b = '~~.test.~~'\n",
        "c = '~test!'\n",
        "\n",
        "print(a.rstrip())\n",
        "print(b.rstrip('~ '))\n",
        "print(c.rstrip('~!'))"
      ],
      "metadata": {
        "colab": {
          "base_uri": "https://localhost:8080/"
        },
        "id": "OkuRMeK3wgvq",
        "outputId": "147031ef-f3bf-4792-9df6-31e0ea35b717"
      },
      "execution_count": 4,
      "outputs": [
        {
          "output_type": "stream",
          "name": "stdout",
          "text": [
            "test\n",
            "~~.test.\n",
            "~test\n"
          ]
        }
      ]
    },
    {
      "cell_type": "code",
      "source": [
        "#2-1\n",
        "a = ' test'\n",
        "b = '~~.test.~~ '\n",
        "c = '~test!'\n",
        "\n",
        "print(a.strip())\n",
        "print(b.strip('~ '))\n",
        "print(c.strip('~!'))"
      ],
      "metadata": {
        "colab": {
          "base_uri": "https://localhost:8080/"
        },
        "id": "IRztpjnXw_jR",
        "outputId": "9daed452-d6e1-469c-f5db-e3cde7a73b95"
      },
      "execution_count": 5,
      "outputs": [
        {
          "output_type": "stream",
          "name": "stdout",
          "text": [
            "test\n",
            ".test.\n",
            "test\n"
          ]
        }
      ]
    },
    {
      "cell_type": "code",
      "source": [
        "#2-2\n",
        "text = ' Water boils at 100 degrees '\n",
        "print('[' + text.rstrip() + ']')\n",
        "print('[' + text.lstrip() + ']')\n",
        "print('[' + text.strip() + ']')"
      ],
      "metadata": {
        "colab": {
          "base_uri": "https://localhost:8080/"
        },
        "id": "7n-xG4omxSYI",
        "outputId": "a8e2818f-775b-40c2-fe45-456f1d6b40bf"
      },
      "execution_count": 6,
      "outputs": [
        {
          "output_type": "stream",
          "name": "stdout",
          "text": [
            "[ Water boils at 100 degrees]\n",
            "[Water boils at 100 degrees ]\n",
            "[Water boils at 100 degrees]\n"
          ]
        }
      ]
    },
    {
      "cell_type": "code",
      "source": [
        "#3\n",
        "text = '0000000Water boils at 100 degrees 000'\n",
        "print(text.lstrip('0'))\n",
        "print(text.rstrip('0'))\n",
        "print(text.strip('0'))\n",
        "\n",
        "text = \",,,,,123.....water....pp\"\n",
        "print(text.lstrip(',123.p'))\n",
        "print(text.rstrip(',123.p'))\n",
        "print(text.strip(',123.p'))\n",
        "\n",
        "text = ' Water boils at 100 degrees '\n",
        "print(text.lstrip(' Water'))\n",
        "print(text.rstrip(' degrees '))\n",
        "print(text.strip(' degrees '))"
      ],
      "metadata": {
        "colab": {
          "base_uri": "https://localhost:8080/"
        },
        "id": "n9vzNNdLxc8Y",
        "outputId": "5fcf7ba2-a359-4310-e834-405bd90938d0"
      },
      "execution_count": 7,
      "outputs": [
        {
          "output_type": "stream",
          "name": "stdout",
          "text": [
            "Water boils at 100 degrees 000\n",
            "0000000Water boils at 100 degrees \n",
            "Water boils at 100 degrees \n",
            "water....pp\n",
            ",,,,,123.....water\n",
            "water\n",
            "boils at 100 degrees \n",
            " Water boils at 100\n",
            "Water boils at 100\n"
          ]
        }
      ]
    },
    {
      "cell_type": "code",
      "source": [
        "#4\n",
        "txt = \"  Hz  \"\n",
        "x = txt.isspace()\n",
        "print(x)\n",
        "\n",
        "\n",
        "sentence = input(\"문자열을 입력하시오: \")\n",
        "table = { \"알파벳\" : 0, \"숫자\" : 0, \"빈칸\" : 0 }\n",
        "\n",
        "for i in sentence :\n",
        "    if (i.isalpha()):\n",
        "        table[\"알파벳\"] += 1\n",
        "    elif (i.isdigit()):\n",
        "        table[\"숫자\"] += 1\n",
        "    elif (i.isspace()):\n",
        "        table[\"빈칸\"] += 1\n",
        "print(table)"
      ],
      "metadata": {
        "colab": {
          "base_uri": "https://localhost:8080/"
        },
        "id": "3uirWu9_xtsR",
        "outputId": "77367a96-018b-449b-825c-3b69d3b4a1d4"
      },
      "execution_count": 8,
      "outputs": [
        {
          "output_type": "stream",
          "name": "stdout",
          "text": [
            "False\n",
            "문자열을 입력하시오: 1\n",
            "{'알파벳': 0, '숫자': 1, '빈칸': 0}\n"
          ]
        }
      ]
    },
    {
      "cell_type": "code",
      "source": [
        "#5\n",
        "### 우측 정렬 예\n",
        "s = '가나다라'\n",
        "n = 7\n",
        "\n",
        "answer = ''\n",
        "for i in range(n-len(s)): # 문자열의 앞을 빈 문자열로 채우는 for 문\n",
        "    answer += ' '\n",
        "answer += s"
      ],
      "metadata": {
        "id": "XNEIt69fx8Op"
      },
      "execution_count": 10,
      "outputs": []
    },
    {
      "cell_type": "code",
      "source": [
        "#6\n",
        "s = '가나다라'\n",
        "n = 20\n",
        "\n",
        "print(s.ljust(n)) # 좌측 정렬\n",
        "\n",
        "print(s.center(n)) # 가운데 정렬\n",
        "\n",
        "print(s.rjust(n)) # 우측 정렬"
      ],
      "metadata": {
        "colab": {
          "base_uri": "https://localhost:8080/"
        },
        "id": "l8vQatQ-yNex",
        "outputId": "e8fdbe5b-b6c0-49e0-9bd4-b1fd11949738"
      },
      "execution_count": 11,
      "outputs": [
        {
          "output_type": "stream",
          "name": "stdout",
          "text": [
            "가나다라                \n",
            "        가나다라        \n",
            "                가나다라\n"
          ]
        }
      ]
    },
    {
      "cell_type": "code",
      "source": [
        "#7-1\n",
        "s = \"a b c d e f g\"\n",
        "print(f's         : {s}')\n",
        "\n",
        "r = s.split()\n",
        "print(f's.split() : {r}')"
      ],
      "metadata": {
        "colab": {
          "base_uri": "https://localhost:8080/"
        },
        "id": "zH0ZQ4ruyaBB",
        "outputId": "b8f124c1-612f-4f00-dd7d-ed9a5c27ecac"
      },
      "execution_count": 12,
      "outputs": [
        {
          "output_type": "stream",
          "name": "stdout",
          "text": [
            "s         : a b c d e f g\n",
            "s.split() : ['a', 'b', 'c', 'd', 'e', 'f', 'g']\n"
          ]
        }
      ]
    },
    {
      "cell_type": "code",
      "source": [
        "#7-2\n",
        "s = \"aa.bb.cc.dd.ee.ff.gg\"\n",
        "print(f's                : {s}')\n",
        "\n",
        "r0 = s.split()\n",
        "r1 = s.split('.')\n",
        "r2 = s.split(sep='.')\n",
        "print(f\"s.split()        : {r0}\")\n",
        "print(f\"s.split('.')     : {r1}\")\n",
        "print(f\"s.split(sep='.') : {r2}\")"
      ],
      "metadata": {
        "colab": {
          "base_uri": "https://localhost:8080/"
        },
        "id": "fWSAwmNwygr5",
        "outputId": "9ea3c4fa-383c-4871-bf3c-7e5d30395740"
      },
      "execution_count": 13,
      "outputs": [
        {
          "output_type": "stream",
          "name": "stdout",
          "text": [
            "s                : aa.bb.cc.dd.ee.ff.gg\n",
            "s.split()        : ['aa.bb.cc.dd.ee.ff.gg']\n",
            "s.split('.')     : ['aa', 'bb', 'cc', 'dd', 'ee', 'ff', 'gg']\n",
            "s.split(sep='.') : ['aa', 'bb', 'cc', 'dd', 'ee', 'ff', 'gg']\n"
          ]
        }
      ]
    },
    {
      "cell_type": "code",
      "source": [
        "#7-3\n",
        "s = \"aa.bb.cc.BlockDMask.ee.ff.gg.python.example\"\n",
        "print(f'{s}')\n",
        "\n",
        "r0 = s.split()\n",
        "r1 = s.split('.', 3)\n",
        "r2 = s.split(sep='.', maxsplit=3)\n",
        "r3 = s.split('.', maxsplit=3)\n",
        "print(f\"\\ns.split()\\n{r0}\")\n",
        "print(f\"\\ns.split('.', 3)\\n{r1}\")\n",
        "print(f\"\\ns.split(sep='.', maxsplit=3)\\n{r2}\")\n",
        "print(f\"\\ns.split('.', maxsplit=3)\\n{r3}\")"
      ],
      "metadata": {
        "colab": {
          "base_uri": "https://localhost:8080/"
        },
        "id": "8DbTOHSXymxJ",
        "outputId": "4b8f1ba9-d46d-40cd-e190-38c21634f021"
      },
      "execution_count": 15,
      "outputs": [
        {
          "output_type": "stream",
          "name": "stdout",
          "text": [
            "aa.bb.cc.BlockDMask.ee.ff.gg.python.example\n",
            "\n",
            "s.split()\n",
            "['aa.bb.cc.BlockDMask.ee.ff.gg.python.example']\n",
            "\n",
            "s.split('.', 3)\n",
            "['aa', 'bb', 'cc', 'BlockDMask.ee.ff.gg.python.example']\n",
            "\n",
            "s.split(sep='.', maxsplit=3)\n",
            "['aa', 'bb', 'cc', 'BlockDMask.ee.ff.gg.python.example']\n",
            "\n",
            "s.split('.', maxsplit=3)\n",
            "['aa', 'bb', 'cc', 'BlockDMask.ee.ff.gg.python.example']\n"
          ]
        }
      ]
    },
    {
      "cell_type": "code",
      "source": [
        "#8-1\n",
        "txt = \"홈짱닷컴\\nHomzzang.com\"\n",
        "\n",
        "x = txt.splitlines()\n",
        "\n",
        "print(x)"
      ],
      "metadata": {
        "colab": {
          "base_uri": "https://localhost:8080/"
        },
        "id": "7CAoFsBhy0j4",
        "outputId": "e8a703a1-e5a6-405f-ce82-a450c58f637d"
      },
      "execution_count": 16,
      "outputs": [
        {
          "output_type": "stream",
          "name": "stdout",
          "text": [
            "['홈짱닷컴', 'Homzzang.com']\n"
          ]
        }
      ]
    },
    {
      "cell_type": "code",
      "source": [
        "#8-2\n",
        "g = 'Milk\\nChicken\\r\\nBread\\rButter'\n",
        "\n",
        "print(g.splitlines())\n",
        "print(g.splitlines(True))\n",
        "\n",
        "g = 'Milk Chicken Bread Butter'\n",
        "print(g.splitlines())"
      ],
      "metadata": {
        "colab": {
          "base_uri": "https://localhost:8080/"
        },
        "id": "XcwmY7yyy6rh",
        "outputId": "3e063517-290f-4fa6-c64c-7058e626c6ff"
      },
      "execution_count": 17,
      "outputs": [
        {
          "output_type": "stream",
          "name": "stdout",
          "text": [
            "['Milk', 'Chicken', 'Bread', 'Butter']\n",
            "['Milk\\n', 'Chicken\\r\\n', 'Bread\\r', 'Butter']\n",
            "['Milk Chicken Bread Butter']\n"
          ]
        }
      ]
    },
    {
      "cell_type": "code",
      "source": [
        "#9\n",
        "text = '123,456,789,999'\n",
        "\n",
        "replaceAll= text.replace(\",\",\"\")\n",
        "replace_t1 = text.replace(\",\", \"\",1)\n",
        "replace_t2 = text.replace(\",\", \"\",2)\n",
        "replace_t3 = text.replace(\",\", \"\",3)\n",
        "print(\"결과 :\")\n",
        "print(replaceAll)\n",
        "print(replace_t1)\n",
        "print(replace_t2)\n",
        "print(replace_t3)"
      ],
      "metadata": {
        "colab": {
          "base_uri": "https://localhost:8080/"
        },
        "id": "ieY72x3izFIo",
        "outputId": "decace3b-91e3-48ec-a4d4-9118e01c2988"
      },
      "execution_count": 18,
      "outputs": [
        {
          "output_type": "stream",
          "name": "stdout",
          "text": [
            "결과 :\n",
            "123456789999\n",
            "123456,789,999\n",
            "123456789,999\n",
            "123456789999\n"
          ]
        }
      ]
    },
    {
      "cell_type": "code",
      "source": [
        "#10\n",
        "a = ['a', 'b', 'c', 'd', '1', '2', '3']\n",
        "print(a)\n",
        "print()\n",
        "\n",
        "# 리스트를 문자열로 : join 이용\n",
        "result1 = \"\".join(a)\n",
        "print(result1)\n",
        "\n",
        "\n",
        "# 리스트를 문자열로 : 하나하나 문자열을 더해서.\n",
        "result2 = ''\n",
        "for v in a:\n",
        "    result2 += v\n",
        "\n",
        "print(result2)"
      ],
      "metadata": {
        "colab": {
          "base_uri": "https://localhost:8080/"
        },
        "id": "su6IXUzjzRaw",
        "outputId": "a7f3fa6f-41bf-4fa5-fb90-02634e484d63"
      },
      "execution_count": 19,
      "outputs": [
        {
          "output_type": "stream",
          "name": "stdout",
          "text": [
            "['a', 'b', 'c', 'd', '1', '2', '3']\n",
            "\n",
            "abcd123\n",
            "abcd123\n"
          ]
        }
      ]
    },
    {
      "cell_type": "code",
      "source": [
        "#11\n",
        "print( \"3\".zfill(3) )\n",
        "\n",
        "print( \"s\".zfill(4) )\n",
        "\n",
        "\n",
        "for x in range(3):\n",
        "    print( str(x).zfill(4) )\n",
        "\n",
        "\n",
        "str = '1234'\n",
        "str_zero = str.zfill(8)\n",
        "print(str_zero)"
      ],
      "metadata": {
        "colab": {
          "base_uri": "https://localhost:8080/"
        },
        "id": "tXwojUVSzikJ",
        "outputId": "298c86d7-622e-4bcb-efe2-13b5e1a73825"
      },
      "execution_count": 20,
      "outputs": [
        {
          "output_type": "stream",
          "name": "stdout",
          "text": [
            "003\n",
            "000s\n",
            "0000\n",
            "0001\n",
            "0002\n",
            "00001234\n"
          ]
        }
      ]
    },
    {
      "cell_type": "code",
      "source": [
        "#12\n",
        "a=\"abc\"\n",
        "\n",
        "print(a.rjust(10))\n",
        "\n",
        "print(a.rjust(10,'#'))\n",
        "\n",
        "b=\"def\"\n",
        "\n",
        "print(b.ljust(15))\n",
        "\n",
        "print(b.ljust(15,'k'))"
      ],
      "metadata": {
        "colab": {
          "base_uri": "https://localhost:8080/"
        },
        "id": "th291VBtz32J",
        "outputId": "32657e0d-83df-4b58-cdcc-60fc2ded9b1c"
      },
      "execution_count": 22,
      "outputs": [
        {
          "output_type": "stream",
          "name": "stdout",
          "text": [
            "       abc\n",
            "#######abc\n",
            "def            \n",
            "defkkkkkkkkkkkk\n"
          ]
        }
      ]
    }
  ]
}
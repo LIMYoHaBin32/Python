{
  "nbformat": 4,
  "nbformat_minor": 0,
  "metadata": {
    "colab": {
      "provenance": [],
      "authorship_tag": "ABX9TyOXLAnOsRpCm4KF+C6OmCT0",
      "include_colab_link": true
    },
    "kernelspec": {
      "name": "python3",
      "display_name": "Python 3"
    },
    "language_info": {
      "name": "python"
    }
  },
  "cells": [
    {
      "cell_type": "markdown",
      "metadata": {
        "id": "view-in-github",
        "colab_type": "text"
      },
      "source": [
        "<a href=\"https://colab.research.google.com/github/LIMYoHaBin32/Python/blob/main/%ED%8C%8C%EC%9D%B4%EC%8D%AC6%EC%B0%A8.ipynb\" target=\"_parent\"><img src=\"https://colab.research.google.com/assets/colab-badge.svg\" alt=\"Open In Colab\"/></a>"
      ]
    },
    {
      "cell_type": "code",
      "execution_count": 1,
      "metadata": {
        "colab": {
          "base_uri": "https://localhost:8080/"
        },
        "id": "h7-OKyLLbkaC",
        "outputId": "e09e2818-e3e8-445c-8981-86f6fdbeb534"
      },
      "outputs": [
        {
          "output_type": "stream",
          "name": "stdout",
          "text": [
            "How old are you20\n",
            "20years old\n"
          ]
        }
      ],
      "source": [
        "# 1-1\n",
        "str = input(\"How old are you\")\n",
        "print(str , 'years old', sep='')"
      ]
    },
    {
      "cell_type": "code",
      "source": [
        "# 1-2번\n",
        "x = float(input('number : '))\n",
        "print(x)"
      ],
      "metadata": {
        "colab": {
          "base_uri": "https://localhost:8080/"
        },
        "id": "9NKukkvweQ6c",
        "outputId": "088af4bc-205e-417e-bd22-e0b7804a55e6"
      },
      "execution_count": 9,
      "outputs": [
        {
          "output_type": "stream",
          "name": "stdout",
          "text": [
            "number : 20\n",
            "20.0\n"
          ]
        }
      ]
    },
    {
      "cell_type": "code",
      "source": [
        "#1-3\n",
        "year = input(\"This year: \")\n",
        "year = eval(year)\n",
        "year = year + 1\n",
        "print(\"Next year:\", year)"
      ],
      "metadata": {
        "colab": {
          "base_uri": "https://localhost:8080/"
        },
        "id": "PXAatry0k4bN",
        "outputId": "f75f5d8a-c891-4437-a2d8-89907e1ba469"
      },
      "execution_count": 21,
      "outputs": [
        {
          "output_type": "stream",
          "name": "stdout",
          "text": [
            "This year: 2024\n",
            "Next year: 2025\n"
          ]
        }
      ]
    },
    {
      "cell_type": "code",
      "source": [
        "#2\n",
        "i= 0\n",
        "result = 0\n",
        "while i < 5:\n",
        "\t\ta = input(\"성적 입력 : \")\n",
        "\t\tresult += int(a)\n",
        "\t\ti += 1\n",
        "print(f'평균 : {result / 5}')"
      ],
      "metadata": {
        "colab": {
          "base_uri": "https://localhost:8080/"
        },
        "id": "iTUJ3T3VmLjN",
        "outputId": "1eafd464-0cc7-4dc5-9966-0736d3879d7f"
      },
      "execution_count": 24,
      "outputs": [
        {
          "output_type": "stream",
          "name": "stdout",
          "text": [
            "성적 입력 : 69\n",
            "성적 입력 : 74\n",
            "성적 입력 : 88\n",
            "성적 입력 : 9\n",
            "성적 입력 : 99\n",
            "평균 : 67.8\n"
          ]
        }
      ]
    },
    {
      "cell_type": "code",
      "source": [
        "#3-1\n",
        "test_list = ['one','two','three']\n",
        "for i in test_list:\n",
        "  print(i)"
      ],
      "metadata": {
        "colab": {
          "base_uri": "https://localhost:8080/"
        },
        "id": "BVy4kQ1YnUGh",
        "outputId": "c8b3fde8-33d2-4c89-8f15-57e338aa803c"
      },
      "execution_count": 27,
      "outputs": [
        {
          "output_type": "stream",
          "name": "stdout",
          "text": [
            "one\n",
            "two\n",
            "three\n"
          ]
        }
      ]
    },
    {
      "cell_type": "code",
      "source": [
        "#3-2\n",
        "for i in range(10):\n",
        "    print(i)"
      ],
      "metadata": {
        "colab": {
          "base_uri": "https://localhost:8080/"
        },
        "id": "gYaw4ibunz7v",
        "outputId": "7fb4f7cd-53f6-4c74-8526-3c28d649dc61"
      },
      "execution_count": 28,
      "outputs": [
        {
          "output_type": "stream",
          "name": "stdout",
          "text": [
            "0\n",
            "1\n",
            "2\n",
            "3\n",
            "4\n",
            "5\n",
            "6\n",
            "7\n",
            "8\n",
            "9\n"
          ]
        }
      ]
    },
    {
      "cell_type": "code",
      "source": [
        "#3-3\n",
        "index = 0\n",
        "s = \"BlockDMask\"\n",
        "for a in s:\n",
        "    if a == 'k':\n",
        "        break    # 'k'를 찾았으니 for문에서 나와랏!\n",
        "\n",
        "    index = index + 1\n",
        "\n",
        "\n",
        "print(index)    # 'k'가 첫번째로 존재하는 위치 출력"
      ],
      "metadata": {
        "colab": {
          "base_uri": "https://localhost:8080/"
        },
        "id": "DDeb5PC_oE7M",
        "outputId": "6b6414e8-71d2-4eb2-faa9-b6cbb4c15045"
      },
      "execution_count": 29,
      "outputs": [
        {
          "output_type": "stream",
          "name": "stdout",
          "text": [
            "4\n"
          ]
        }
      ]
    },
    {
      "cell_type": "code",
      "source": [
        "#3-4\n",
        "result = 0\n",
        "for a in range(1,101):  # 1 ~ 100\n",
        "    result = result + a    # a를 더해주고\n",
        "\n",
        "    if result > 100:    # result가 100이 넘었을때\n",
        "        print(a)        # 그때의 a값을 출력\n",
        "        break\n",
        "\n",
        "print(result)\n"
      ],
      "metadata": {
        "colab": {
          "base_uri": "https://localhost:8080/"
        },
        "id": "ppMbJpYroWXt",
        "outputId": "a67e998f-7d09-4623-dd86-aaff947037b9"
      },
      "execution_count": 30,
      "outputs": [
        {
          "output_type": "stream",
          "name": "stdout",
          "text": [
            "14\n",
            "105\n"
          ]
        }
      ]
    },
    {
      "cell_type": "code",
      "source": [
        "#3-5\n",
        "student = [180, 170, 164, 199, 182, 172, 177]\n",
        "for a in student:\n",
        "    if a > 170:\n",
        "        continue  # 키가 170보다 크면 continue\n",
        "\n",
        "    print(a)\n"
      ],
      "metadata": {
        "colab": {
          "base_uri": "https://localhost:8080/"
        },
        "id": "CzRnKHxtolok",
        "outputId": "68e7fb17-15a1-4911-86ce-a64522e96926"
      },
      "execution_count": 31,
      "outputs": [
        {
          "output_type": "stream",
          "name": "stdout",
          "text": [
            "170\n",
            "164\n"
          ]
        }
      ]
    },
    {
      "cell_type": "code",
      "source": [
        "#3-5\n",
        "result = 0\n",
        "for a in range(1,101):  #1 ~ 100\n",
        "    if a % 2 == 1:      #2로 나누었을때 나머지가 1\n",
        "        result = result + a\n",
        "\n",
        "print(result)\n",
        "\n"
      ],
      "metadata": {
        "colab": {
          "base_uri": "https://localhost:8080/"
        },
        "id": "tKOpT7BFoo_z",
        "outputId": "30d0dc2f-eb8d-456d-bd24-83fec29df307"
      },
      "execution_count": 32,
      "outputs": [
        {
          "output_type": "stream",
          "name": "stdout",
          "text": [
            "2500\n"
          ]
        }
      ]
    },
    {
      "cell_type": "code",
      "source": [
        "#3-6\n",
        "l = ['Alice','Bob','Charlie']\n",
        "\n",
        "for name in l:\n",
        "\t\tprint(name)\n",
        "else:\n",
        "\t\tprint('!!FIISH!!')"
      ],
      "metadata": {
        "colab": {
          "base_uri": "https://localhost:8080/"
        },
        "id": "vUEgU5_GpRkn",
        "outputId": "a36db0d5-d056-4911-b82f-6db744e2b4be"
      },
      "execution_count": 33,
      "outputs": [
        {
          "output_type": "stream",
          "name": "stdout",
          "text": [
            "Alice\n",
            "Bob\n",
            "Charlie\n",
            "!!FIISH!!\n"
          ]
        }
      ]
    },
    {
      "cell_type": "code",
      "source": [
        "for name in l:\n",
        "\t\tif name == 'Bob':\n",
        "\t\t\t\tprint('!BREAK!')\n",
        "\t\t\t\tbreak\n",
        "\t\tprint(name)\n",
        "else:\n",
        "\t\tprint('!!FINISH!!')"
      ],
      "metadata": {
        "colab": {
          "base_uri": "https://localhost:8080/"
        },
        "id": "A9qCF_mapqP4",
        "outputId": "a2dfa9dd-e3ed-441a-be6b-4dd2f255450f"
      },
      "execution_count": 34,
      "outputs": [
        {
          "output_type": "stream",
          "name": "stdout",
          "text": [
            "Alice\n",
            "!BREAK!\n"
          ]
        }
      ]
    },
    {
      "cell_type": "code",
      "source": [
        "#4\n",
        "sr = ['father', 'mother', 'brother']\n",
        "cnt = 0\n",
        "for s in sr:\n",
        "        for c in s:\n",
        "            if c == 'r':\n",
        "                cnt += 1\n",
        "print(cnt)"
      ],
      "metadata": {
        "colab": {
          "base_uri": "https://localhost:8080/"
        },
        "id": "OYPebk7PqFDV",
        "outputId": "b84e4d12-190e-4204-a01a-a361e7737eed"
      },
      "execution_count": 38,
      "outputs": [
        {
          "output_type": "stream",
          "name": "stdout",
          "text": [
            "4\n"
          ]
        }
      ]
    },
    {
      "cell_type": "code",
      "source": [
        "#5-1\n",
        "a = []    # 빈 리스트 생성\n",
        "\n",
        "for i in range(10):\n",
        "    a.append(0)    # append로 요소 추가\n",
        "\n",
        "print(a)\n"
      ],
      "metadata": {
        "colab": {
          "base_uri": "https://localhost:8080/"
        },
        "id": "rMnEaOFUrEOp",
        "outputId": "e6e9aaea-7341-40c9-d28b-43dcf396d1c9"
      },
      "execution_count": 39,
      "outputs": [
        {
          "output_type": "stream",
          "name": "stdout",
          "text": [
            "[0, 0, 0, 0, 0, 0, 0, 0, 0, 0]\n"
          ]
        }
      ]
    },
    {
      "cell_type": "code",
      "source": [
        "#5-2\n",
        "a = []    # 빈 리스트 생성\n",
        "\n",
        "for i in range(3):\n",
        "    line = []              # 안쪽 리스트로 사용할 빈 리스트 생성\n",
        "    for j in range(2):\n",
        "        line.append(0)     # 안쪽 리스트에 0 추가\n",
        "    a.append(line)         # 전체 리스트에 안쪽 리스트를 추가\n",
        "\n",
        "print(a)\n"
      ],
      "metadata": {
        "colab": {
          "base_uri": "https://localhost:8080/"
        },
        "id": "OQtbUDe-rPqf",
        "outputId": "fd74e6cd-fbf4-4d58-aed6-8bad9d912ded"
      },
      "execution_count": 40,
      "outputs": [
        {
          "output_type": "stream",
          "name": "stdout",
          "text": [
            "[[0, 0], [0, 0], [0, 0]]\n"
          ]
        }
      ]
    },
    {
      "cell_type": "code",
      "source": [
        "#9-1\n",
        "print(list(range(0, 10, 3)))"
      ],
      "metadata": {
        "colab": {
          "base_uri": "https://localhost:8080/"
        },
        "id": "_2bN1ZI_r2BG",
        "outputId": "6d5284a6-86e7-40a3-d6aa-a8ab907564d6"
      },
      "execution_count": 42,
      "outputs": [
        {
          "output_type": "stream",
          "name": "stdout",
          "text": [
            "[0, 3, 6, 9]\n"
          ]
        }
      ]
    },
    {
      "cell_type": "code",
      "source": [
        "#9-2\n",
        "print(list(range(10, 0, -3)))"
      ],
      "metadata": {
        "colab": {
          "base_uri": "https://localhost:8080/"
        },
        "id": "u6DmiNRVsJCz",
        "outputId": "b6380b5c-b7f3-4c83-dd26-7abfdcd02d26"
      },
      "execution_count": 43,
      "outputs": [
        {
          "output_type": "stream",
          "name": "stdout",
          "text": [
            "[10, 7, 4, 1]\n"
          ]
        }
      ]
    },
    {
      "cell_type": "code",
      "source": [
        "#9-3\n",
        "for i in range(10, 0, -3):\n",
        "\t\tprint(i)"
      ],
      "metadata": {
        "colab": {
          "base_uri": "https://localhost:8080/"
        },
        "id": "2zpfJBrzsN_K",
        "outputId": "e069ea95-f6e8-4585-ab5c-97c5e7518346"
      },
      "execution_count": 44,
      "outputs": [
        {
          "output_type": "stream",
          "name": "stdout",
          "text": [
            "10\n",
            "7\n",
            "4\n",
            "1\n"
          ]
        }
      ]
    },
    {
      "cell_type": "code",
      "source": [
        "#7-1\n",
        "l = ['Alice','Bob','Charlie']\n",
        "\n",
        "for name in l:\n",
        "\t\tprint(name)\n",
        "\n",
        "for i, name in enumerate(l):\n",
        "\t\tprint(i, name)"
      ],
      "metadata": {
        "colab": {
          "base_uri": "https://localhost:8080/"
        },
        "id": "DM7M5zqHslKx",
        "outputId": "4a798a1c-cfdf-44d7-dc9c-77667cbab7f0"
      },
      "execution_count": 45,
      "outputs": [
        {
          "output_type": "stream",
          "name": "stdout",
          "text": [
            "Alice\n",
            "Bob\n",
            "Charlie\n",
            "0 Alice\n",
            "1 Bob\n",
            "2 Charlie\n"
          ]
        }
      ]
    },
    {
      "cell_type": "code",
      "source": [
        "#7-2\n",
        "for i, name in enumerate(l, 1):\n",
        "\t\tprint(i, name)\n",
        "for i, name in enumerate(l, 42):\n",
        "\t\tprint(i, name)"
      ],
      "metadata": {
        "colab": {
          "base_uri": "https://localhost:8080/"
        },
        "id": "B6wxE_yFs9o6",
        "outputId": "6dcc36b2-c7a0-43e0-e43b-05dd91873884"
      },
      "execution_count": 46,
      "outputs": [
        {
          "output_type": "stream",
          "name": "stdout",
          "text": [
            "1 Alice\n",
            "2 Bob\n",
            "3 Charlie\n",
            "42 Alice\n",
            "43 Bob\n",
            "44 Charlie\n"
          ]
        }
      ]
    }
  ]
}